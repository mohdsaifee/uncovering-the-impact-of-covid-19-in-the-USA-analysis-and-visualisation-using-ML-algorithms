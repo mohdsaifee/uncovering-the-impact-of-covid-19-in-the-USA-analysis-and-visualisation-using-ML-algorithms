{
  "nbformat": 4,
  "nbformat_minor": 0,
  "metadata": {
    "colab": {
      "provenance": []
    },
    "kernelspec": {
      "name": "python3",
      "display_name": "Python 3"
    },
    "language_info": {
      "name": "python"
    }
  },
  "cells": [
    {
      "cell_type": "markdown",
      "source": [
        "# IMPORTING PACKAGES AND DATASET"
      ],
      "metadata": {
        "id": "FekfF9FAqLXE"
      }
    },
    {
      "cell_type": "code",
      "execution_count": 1,
      "metadata": {
        "id": "qjiXLi4sk8au",
        "colab": {
          "base_uri": "https://localhost:8080/"
        },
        "outputId": "52308141-c01f-42d9-c76b-10332992fbfe"
      },
      "outputs": [
        {
          "output_type": "stream",
          "name": "stdout",
          "text": [
            "Drive already mounted at /content/drive; to attempt to forcibly remount, call drive.mount(\"/content/drive\", force_remount=True).\n",
            "Mounted at /content/drive\n"
          ]
        }
      ],
      "source": [
        "import numpy as np\n",
        "import pandas as pd\n",
        "import seaborn as sns\n",
        "import matplotlib.pyplot as plt\n",
        "\n",
        "from google.colab import drive\n",
        "drive.mount('/content/drive')\n",
        "\n",
        "drive.mount(\"/content/drive\", force_remount=True)\n",
        "import pandas as pd\n",
        "\n",
        "csv_path = \"/content/drive/MyDrive/covid_data.csv\"\n",
        "data_frame = pd.read_csv(csv_path, encoding='ISO-8859-1')\n"
      ]
    },
    {
      "cell_type": "code",
      "source": [
        "data_frame.columns"
      ],
      "metadata": {
        "colab": {
          "base_uri": "https://localhost:8080/"
        },
        "id": "oPPyq8FToEL8",
        "outputId": "0419129e-81cf-4358-9dce-bf689e6e3e10"
      },
      "execution_count": 2,
      "outputs": [
        {
          "output_type": "execute_result",
          "data": {
            "text/plain": [
              "Index(['UID', 'iso2', 'iso3', 'code3', 'FIPS', 'Admin2', 'Province_State',\n",
              "       'Country_Region', 'Lat', 'Long_', 'Combined_Key', 'Date', 'Confirmed',\n",
              "       'Deaths'],\n",
              "      dtype='object')"
            ]
          },
          "metadata": {},
          "execution_count": 2
        }
      ]
    },
    {
      "cell_type": "markdown",
      "source": [
        "#Converting String values to Integer"
      ],
      "metadata": {
        "id": "wyRHR2tfqUxC"
      }
    },
    {
      "cell_type": "code",
      "source": [
        "from sklearn import preprocessing\n",
        "string_to_int= preprocessing.LabelEncoder()                \n",
        "data_frame=data_frame.apply(string_to_int.fit_transform)"
      ],
      "metadata": {
        "id": "_UwvfqU1oHQI"
      },
      "execution_count": 3,
      "outputs": []
    },
    {
      "cell_type": "markdown",
      "source": [
        "# **LISTING OUT THE FEATURES AND TARGET ATTRIBUTES**"
      ],
      "metadata": {
        "id": "fExp0_EBqb63"
      }
    },
    {
      "cell_type": "code",
      "source": [
        "Features = ['UID', 'Province_State', 'Country_Region', 'Confirmed']\n",
        "Target = [\"Deaths\"]"
      ],
      "metadata": {
        "id": "RfPLbZ_6oLkA"
      },
      "execution_count": 4,
      "outputs": []
    },
    {
      "cell_type": "markdown",
      "source": [
        "# **SPLITTING THE DATASET INTO TRAINING AND TESTING PARTS**"
      ],
      "metadata": {
        "id": "PQJnXCPgqhIy"
      }
    },
    {
      "cell_type": "code",
      "source": [
        "#Split dataset to Training Set & Test Set\n",
        "from sklearn.model_selection import train_test_split\n",
        "\n",
        "X = data_frame[Features]\n",
        "y = data_frame[Target]\n",
        "\n",
        "X_train, X_test, y_train, y_test = train_test_split(X, y, \n",
        "                        train_size = 0.8, \n",
        "                        test_size = 0.2, \n",
        "                        random_state= 10)\n",
        "\n",
        "\n",
        "\n",
        "x1 = X_train[Features]    #Features to train\n",
        "x2 = y_train[Target]      #Target Class to test\n",
        "y1 = X_test[Features]    #Features to test\n",
        "y2 = y_test[Target]      #Target Class to test"
      ],
      "metadata": {
        "id": "dVdCrfGvoPhE"
      },
      "execution_count": 5,
      "outputs": []
    },
    {
      "cell_type": "markdown",
      "source": [
        "# **CHI2 METHOD FOR SELECTION OF BEST FEATURES**"
      ],
      "metadata": {
        "id": "gwKxMM3Eqyor"
      }
    },
    {
      "cell_type": "code",
      "source": [
        "from sklearn.feature_selection import SelectKBest\n",
        "from sklearn.feature_selection import chi2\n",
        "best_features= SelectKBest(score_func=chi2, k=3)\n",
        "fit= best_features.fit(X,y)"
      ],
      "metadata": {
        "id": "ym2cG54coSFj"
      },
      "execution_count": 6,
      "outputs": []
    },
    {
      "cell_type": "code",
      "source": [
        "df_scores= pd.DataFrame(fit.scores_*100)\n",
        "df_columns= pd.DataFrame(X.columns)"
      ],
      "metadata": {
        "id": "EO4uhrKyoUdS"
      },
      "execution_count": 7,
      "outputs": []
    },
    {
      "cell_type": "code",
      "source": [
        "features_scores= pd.concat([df_columns, df_scores], axis=1)\n",
        "features_scores.columns= ['Features', 'Score']\n",
        "features_scores.sort_values(by = 'Score')"
      ],
      "metadata": {
        "colab": {
          "base_uri": "https://localhost:8080/",
          "height": 175
        },
        "id": "zom3p-B9oWoa",
        "outputId": "0e78dd90-1883-4ffc-f19d-a039a69aaa3a"
      },
      "execution_count": 8,
      "outputs": [
        {
          "output_type": "execute_result",
          "data": {
            "text/plain": [
              "         Features         Score\n",
              "1  Province_State  5.960863e+06\n",
              "0             UID  2.955877e+08\n",
              "3       Confirmed  2.209765e+11\n",
              "2  Country_Region           NaN"
            ],
            "text/html": [
              "\n",
              "  <div id=\"df-da40fba4-3c4a-4a5f-8f7d-c6f682da17f9\">\n",
              "    <div class=\"colab-df-container\">\n",
              "      <div>\n",
              "<style scoped>\n",
              "    .dataframe tbody tr th:only-of-type {\n",
              "        vertical-align: middle;\n",
              "    }\n",
              "\n",
              "    .dataframe tbody tr th {\n",
              "        vertical-align: top;\n",
              "    }\n",
              "\n",
              "    .dataframe thead th {\n",
              "        text-align: right;\n",
              "    }\n",
              "</style>\n",
              "<table border=\"1\" class=\"dataframe\">\n",
              "  <thead>\n",
              "    <tr style=\"text-align: right;\">\n",
              "      <th></th>\n",
              "      <th>Features</th>\n",
              "      <th>Score</th>\n",
              "    </tr>\n",
              "  </thead>\n",
              "  <tbody>\n",
              "    <tr>\n",
              "      <th>1</th>\n",
              "      <td>Province_State</td>\n",
              "      <td>5.960863e+06</td>\n",
              "    </tr>\n",
              "    <tr>\n",
              "      <th>0</th>\n",
              "      <td>UID</td>\n",
              "      <td>2.955877e+08</td>\n",
              "    </tr>\n",
              "    <tr>\n",
              "      <th>3</th>\n",
              "      <td>Confirmed</td>\n",
              "      <td>2.209765e+11</td>\n",
              "    </tr>\n",
              "    <tr>\n",
              "      <th>2</th>\n",
              "      <td>Country_Region</td>\n",
              "      <td>NaN</td>\n",
              "    </tr>\n",
              "  </tbody>\n",
              "</table>\n",
              "</div>\n",
              "      <button class=\"colab-df-convert\" onclick=\"convertToInteractive('df-da40fba4-3c4a-4a5f-8f7d-c6f682da17f9')\"\n",
              "              title=\"Convert this dataframe to an interactive table.\"\n",
              "              style=\"display:none;\">\n",
              "        \n",
              "  <svg xmlns=\"http://www.w3.org/2000/svg\" height=\"24px\"viewBox=\"0 0 24 24\"\n",
              "       width=\"24px\">\n",
              "    <path d=\"M0 0h24v24H0V0z\" fill=\"none\"/>\n",
              "    <path d=\"M18.56 5.44l.94 2.06.94-2.06 2.06-.94-2.06-.94-.94-2.06-.94 2.06-2.06.94zm-11 1L8.5 8.5l.94-2.06 2.06-.94-2.06-.94L8.5 2.5l-.94 2.06-2.06.94zm10 10l.94 2.06.94-2.06 2.06-.94-2.06-.94-.94-2.06-.94 2.06-2.06.94z\"/><path d=\"M17.41 7.96l-1.37-1.37c-.4-.4-.92-.59-1.43-.59-.52 0-1.04.2-1.43.59L10.3 9.45l-7.72 7.72c-.78.78-.78 2.05 0 2.83L4 21.41c.39.39.9.59 1.41.59.51 0 1.02-.2 1.41-.59l7.78-7.78 2.81-2.81c.8-.78.8-2.07 0-2.86zM5.41 20L4 18.59l7.72-7.72 1.47 1.35L5.41 20z\"/>\n",
              "  </svg>\n",
              "      </button>\n",
              "      \n",
              "  <style>\n",
              "    .colab-df-container {\n",
              "      display:flex;\n",
              "      flex-wrap:wrap;\n",
              "      gap: 12px;\n",
              "    }\n",
              "\n",
              "    .colab-df-convert {\n",
              "      background-color: #E8F0FE;\n",
              "      border: none;\n",
              "      border-radius: 50%;\n",
              "      cursor: pointer;\n",
              "      display: none;\n",
              "      fill: #1967D2;\n",
              "      height: 32px;\n",
              "      padding: 0 0 0 0;\n",
              "      width: 32px;\n",
              "    }\n",
              "\n",
              "    .colab-df-convert:hover {\n",
              "      background-color: #E2EBFA;\n",
              "      box-shadow: 0px 1px 2px rgba(60, 64, 67, 0.3), 0px 1px 3px 1px rgba(60, 64, 67, 0.15);\n",
              "      fill: #174EA6;\n",
              "    }\n",
              "\n",
              "    [theme=dark] .colab-df-convert {\n",
              "      background-color: #3B4455;\n",
              "      fill: #D2E3FC;\n",
              "    }\n",
              "\n",
              "    [theme=dark] .colab-df-convert:hover {\n",
              "      background-color: #434B5C;\n",
              "      box-shadow: 0px 1px 3px 1px rgba(0, 0, 0, 0.15);\n",
              "      filter: drop-shadow(0px 1px 2px rgba(0, 0, 0, 0.3));\n",
              "      fill: #FFFFFF;\n",
              "    }\n",
              "  </style>\n",
              "\n",
              "      <script>\n",
              "        const buttonEl =\n",
              "          document.querySelector('#df-da40fba4-3c4a-4a5f-8f7d-c6f682da17f9 button.colab-df-convert');\n",
              "        buttonEl.style.display =\n",
              "          google.colab.kernel.accessAllowed ? 'block' : 'none';\n",
              "\n",
              "        async function convertToInteractive(key) {\n",
              "          const element = document.querySelector('#df-da40fba4-3c4a-4a5f-8f7d-c6f682da17f9');\n",
              "          const dataTable =\n",
              "            await google.colab.kernel.invokeFunction('convertToInteractive',\n",
              "                                                     [key], {});\n",
              "          if (!dataTable) return;\n",
              "\n",
              "          const docLinkHtml = 'Like what you see? Visit the ' +\n",
              "            '<a target=\"_blank\" href=https://colab.research.google.com/notebooks/data_table.ipynb>data table notebook</a>'\n",
              "            + ' to learn more about interactive tables.';\n",
              "          element.innerHTML = '';\n",
              "          dataTable['output_type'] = 'display_data';\n",
              "          await google.colab.output.renderOutput(dataTable, element);\n",
              "          const docLink = document.createElement('div');\n",
              "          docLink.innerHTML = docLinkHtml;\n",
              "          element.appendChild(docLink);\n",
              "        }\n",
              "      </script>\n",
              "    </div>\n",
              "  </div>\n",
              "  "
            ]
          },
          "metadata": {},
          "execution_count": 8
        }
      ]
    },
    {
      "cell_type": "markdown",
      "source": [
        "# **ANN CLASSIFICATION**"
      ],
      "metadata": {
        "id": "HbozDnKqxqc5"
      }
    },
    {
      "cell_type": "code",
      "source": [
        "from keras.models import Sequential\n",
        "from keras.layers import Dense\n",
        "# create the ANN model\n",
        "model = Sequential()\n",
        "model.add(Dense(8, input_dim=4, activation='relu'))\n",
        "model.add(Dense(1, activation='sigmoid'))\n",
        "\n",
        "# compile the model\n",
        "model.compile(loss='binary_crossentropy', optimizer='adam')\n",
        "\n",
        "# train the model\n",
        "model.fit(X_train, y_train, epochs=40, batch_size=100)\n",
        "\n",
        "# evaluate the model on the testing set\n",
        "accuracy = model.evaluate(X_test, y_test)\n",
        "print('Accuracy: %.2f' % (accuracy*100))"
      ],
      "metadata": {
        "colab": {
          "base_uri": "https://localhost:8080/"
        },
        "id": "O9EbsfHGxa4t",
        "outputId": "db34d3e7-59d0-4784-d8b9-91a9dd325954"
      },
      "execution_count": 9,
      "outputs": [
        {
          "output_type": "stream",
          "name": "stdout",
          "text": [
            "Epoch 1/40\n",
            "5024/5024 [==============================] - 11s 2ms/step - loss: -3215862.7500\n",
            "Epoch 2/40\n",
            "5024/5024 [==============================] - 9s 2ms/step - loss: -18390764.0000\n",
            "Epoch 3/40\n",
            "5024/5024 [==============================] - 10s 2ms/step - loss: -44506312.0000\n",
            "Epoch 4/40\n",
            "5024/5024 [==============================] - 10s 2ms/step - loss: -80549984.0000\n",
            "Epoch 5/40\n",
            "5024/5024 [==============================] - 9s 2ms/step - loss: -127060600.0000\n",
            "Epoch 6/40\n",
            "5024/5024 [==============================] - 10s 2ms/step - loss: -183150720.0000\n",
            "Epoch 7/40\n",
            "5024/5024 [==============================] - 10s 2ms/step - loss: -248615152.0000\n",
            "Epoch 8/40\n",
            "5024/5024 [==============================] - 9s 2ms/step - loss: -324829440.0000\n",
            "Epoch 9/40\n",
            "5024/5024 [==============================] - 12s 2ms/step - loss: -411566272.0000\n",
            "Epoch 10/40\n",
            "5024/5024 [==============================] - 10s 2ms/step - loss: -508431840.0000\n",
            "Epoch 11/40\n",
            "5024/5024 [==============================] - 9s 2ms/step - loss: -613854144.0000\n",
            "Epoch 12/40\n",
            "5024/5024 [==============================] - 11s 2ms/step - loss: -729106688.0000\n",
            "Epoch 13/40\n",
            "5024/5024 [==============================] - 12s 2ms/step - loss: -854214336.0000\n",
            "Epoch 14/40\n",
            "5024/5024 [==============================] - 10s 2ms/step - loss: -990350784.0000\n",
            "Epoch 15/40\n",
            "5024/5024 [==============================] - 10s 2ms/step - loss: -1135097344.0000\n",
            "Epoch 16/40\n",
            "5024/5024 [==============================] - 9s 2ms/step - loss: -1289296512.0000\n",
            "Epoch 17/40\n",
            "5024/5024 [==============================] - 9s 2ms/step - loss: -1453241216.0000\n",
            "Epoch 18/40\n",
            "5024/5024 [==============================] - 10s 2ms/step - loss: -1627208704.0000\n",
            "Epoch 19/40\n",
            "5024/5024 [==============================] - 9s 2ms/step - loss: -1811703680.0000\n",
            "Epoch 20/40\n",
            "5024/5024 [==============================] - 9s 2ms/step - loss: -2005554816.0000\n",
            "Epoch 21/40\n",
            "5024/5024 [==============================] - 10s 2ms/step - loss: -2209760768.0000\n",
            "Epoch 22/40\n",
            "5024/5024 [==============================] - 9s 2ms/step - loss: -2423677184.0000\n",
            "Epoch 23/40\n",
            "5024/5024 [==============================] - 10s 2ms/step - loss: -2646160640.0000\n",
            "Epoch 24/40\n",
            "5024/5024 [==============================] - 11s 2ms/step - loss: -2880152064.0000\n",
            "Epoch 25/40\n",
            "5024/5024 [==============================] - 9s 2ms/step - loss: -3120854016.0000\n",
            "Epoch 26/40\n",
            "5024/5024 [==============================] - 9s 2ms/step - loss: -3373806592.0000\n",
            "Epoch 27/40\n",
            "5024/5024 [==============================] - 10s 2ms/step - loss: -3635538176.0000\n",
            "Epoch 28/40\n",
            "5024/5024 [==============================] - 9s 2ms/step - loss: -3908161792.0000\n",
            "Epoch 29/40\n",
            "5024/5024 [==============================] - 9s 2ms/step - loss: -4191099904.0000\n",
            "Epoch 30/40\n",
            "5024/5024 [==============================] - 10s 2ms/step - loss: -4482635264.0000\n",
            "Epoch 31/40\n",
            "5024/5024 [==============================] - 10s 2ms/step - loss: -4784278528.0000\n",
            "Epoch 32/40\n",
            "5024/5024 [==============================] - 9s 2ms/step - loss: -5090141696.0000\n",
            "Epoch 33/40\n",
            "5024/5024 [==============================] - 11s 2ms/step - loss: -5408839168.0000\n",
            "Epoch 34/40\n",
            "5024/5024 [==============================] - 9s 2ms/step - loss: -5738744832.0000\n",
            "Epoch 35/40\n",
            "5024/5024 [==============================] - 11s 2ms/step - loss: -6080344064.0000\n",
            "Epoch 36/40\n",
            "5024/5024 [==============================] - 10s 2ms/step - loss: -6429188096.0000\n",
            "Epoch 37/40\n",
            "5024/5024 [==============================] - 9s 2ms/step - loss: -6784647680.0000\n",
            "Epoch 38/40\n",
            "5024/5024 [==============================] - 9s 2ms/step - loss: -7152829440.0000\n",
            "Epoch 39/40\n",
            "5024/5024 [==============================] - 10s 2ms/step - loss: -7532097536.0000\n",
            "Epoch 40/40\n",
            "5024/5024 [==============================] - 9s 2ms/step - loss: -7921135104.0000\n",
            "3925/3925 [==============================] - 11s 3ms/step - loss: -8166576128.0000\n",
            "Accuracy: -816657612800.00\n"
          ]
        }
      ]
    },
    {
      "cell_type": "markdown",
      "source": [
        "#KNN Classification"
      ],
      "metadata": {
        "id": "_sZb5g_P1kRV"
      }
    },
    {
      "cell_type": "code",
      "source": [
        "# K-Nearest Neighbors\n",
        "# Create Model with configuration \n",
        "from sklearn.neighbors import KNeighborsClassifier\n",
        "knn_model = KNeighborsClassifier(n_neighbors=3)\n",
        "\n",
        "# Model Training\n",
        "knn_model.fit(X=x1,\n",
        "             y=x2)\n",
        "\n",
        "# Prediction\n",
        "result = knn_model.predict(y1) "
      ],
      "metadata": {
        "colab": {
          "base_uri": "https://localhost:8080/"
        },
        "id": "Fne7OaTT0wVH",
        "outputId": "099cfd79-6903-4ca4-c9ad-56c82c95cddf"
      },
      "execution_count": 10,
      "outputs": [
        {
          "output_type": "stream",
          "name": "stderr",
          "text": [
            "/usr/local/lib/python3.9/dist-packages/sklearn/neighbors/_classification.py:215: DataConversionWarning: A column-vector y was passed when a 1d array was expected. Please change the shape of y to (n_samples,), for example using ravel().\n",
            "  return self._fit(X, y)\n"
          ]
        }
      ]
    },
    {
      "cell_type": "code",
      "source": [
        "from sklearn.metrics import accuracy_score\n",
        "from sklearn.metrics import recall_score\n",
        "from sklearn.metrics import precision_score\n",
        "from sklearn.metrics import f1_score\n",
        "from sklearn.metrics import precision_score, recall_score, confusion_matrix, classification_report, accuracy_score, f1_score\n",
        "ac_sc = accuracy_score(y2, result)\n",
        "rc_sc = recall_score(y2, result, average=\"weighted\")\n",
        "pr_sc = precision_score(y2, result, average=\"weighted\")\n",
        "f1_sc = f1_score(y2, result, average='micro')\n",
        "confusion_m = confusion_matrix(y2, result)\n",
        "print(\"========== KNN Results ==========\")\n",
        "print(\"Accuracy    : \", ac_sc)\n",
        "print(\"Recall      : \", rc_sc)\n",
        "print(\"Precision   : \", pr_sc)\n",
        "print(\"F1 Score    : \", f1_sc)"
      ],
      "metadata": {
        "colab": {
          "base_uri": "https://localhost:8080/"
        },
        "id": "Tf8ezuMk02AA",
        "outputId": "56cd41be-1591-40c1-ef82-634b3761f823"
      },
      "execution_count": 11,
      "outputs": [
        {
          "output_type": "stream",
          "name": "stderr",
          "text": [
            "/usr/local/lib/python3.9/dist-packages/sklearn/metrics/_classification.py:1344: UndefinedMetricWarning: Recall is ill-defined and being set to 0.0 in labels with no true samples. Use `zero_division` parameter to control this behavior.\n",
            "  _warn_prf(average, modifier, msg_start, len(result))\n",
            "/usr/local/lib/python3.9/dist-packages/sklearn/metrics/_classification.py:1344: UndefinedMetricWarning: Precision is ill-defined and being set to 0.0 in labels with no predicted samples. Use `zero_division` parameter to control this behavior.\n",
            "  _warn_prf(average, modifier, msg_start, len(result))\n"
          ]
        },
        {
          "output_type": "stream",
          "name": "stdout",
          "text": [
            "========== KNN Results ==========\n",
            "Accuracy    :  0.8249378901770926\n",
            "Recall      :  0.8249378901770926\n",
            "Precision   :  0.8172503758572286\n",
            "F1 Score    :  0.8249378901770926\n"
          ]
        }
      ]
    },
    {
      "cell_type": "markdown",
      "source": [
        "#Ensemble Voting Model"
      ],
      "metadata": {
        "id": "MDiExeLi43n_"
      }
    },
    {
      "cell_type": "code",
      "source": [
        "# Ensemble Voting Model\n",
        "# Combine 3 Models to create an Ensemble Model\n",
        "# Create Model with configuration\n",
        "from sklearn.ensemble import RandomForestClassifier,VotingClassifier\n",
        "eclf1 = VotingClassifier(estimators=[('knn', knn_model)], \n",
        "                         weights=[1],\n",
        "                         flatten_transform=True)\n",
        "eclf1 = eclf1.fit(X=x1, y=x2)   \n",
        "\n",
        "# Prediction\n",
        "result = eclf1.predict(y1)"
      ],
      "metadata": {
        "colab": {
          "base_uri": "https://localhost:8080/"
        },
        "id": "v6aqTsRx4cM6",
        "outputId": "a0d06b39-f8ef-438c-f19e-4e6b398ce820"
      },
      "execution_count": 15,
      "outputs": [
        {
          "output_type": "stream",
          "name": "stderr",
          "text": [
            "/usr/local/lib/python3.9/dist-packages/sklearn/preprocessing/_label.py:99: DataConversionWarning: A column-vector y was passed when a 1d array was expected. Please change the shape of y to (n_samples, ), for example using ravel().\n",
            "  y = column_or_1d(y, warn=True)\n",
            "/usr/local/lib/python3.9/dist-packages/sklearn/preprocessing/_label.py:134: DataConversionWarning: A column-vector y was passed when a 1d array was expected. Please change the shape of y to (n_samples, ), for example using ravel().\n",
            "  y = column_or_1d(y, dtype=self.classes_.dtype, warn=True)\n"
          ]
        }
      ]
    },
    {
      "cell_type": "code",
      "source": [
        "# Model Evaluation\n",
        "ac_sc = accuracy_score(y2, result)\n",
        "rc_sc = recall_score(y2, result, average=\"weighted\")\n",
        "pr_sc = precision_score(y2, result, average=\"weighted\")\n",
        "f1_sc = f1_score(y2, result, average='micro')\n",
        "confusion_m = confusion_matrix(y2, result)\n",
        "\n",
        "print(\"========== Voting Model Results ==========\")\n",
        "print(\"Accuracy    : \", ac_sc)\n",
        "print(\"Recall      : \", rc_sc)\n",
        "print(\"Precision   : \", pr_sc)\n",
        "print(\"F1 Score    : \", f1_sc)"
      ],
      "metadata": {
        "colab": {
          "base_uri": "https://localhost:8080/"
        },
        "id": "lqzeOWXi41x_",
        "outputId": "0db986c5-d7aa-468a-d3fc-f1658215bef0"
      },
      "execution_count": 16,
      "outputs": [
        {
          "output_type": "stream",
          "name": "stderr",
          "text": [
            "/usr/local/lib/python3.9/dist-packages/sklearn/metrics/_classification.py:1344: UndefinedMetricWarning: Recall is ill-defined and being set to 0.0 in labels with no true samples. Use `zero_division` parameter to control this behavior.\n",
            "  _warn_prf(average, modifier, msg_start, len(result))\n",
            "/usr/local/lib/python3.9/dist-packages/sklearn/metrics/_classification.py:1344: UndefinedMetricWarning: Precision is ill-defined and being set to 0.0 in labels with no predicted samples. Use `zero_division` parameter to control this behavior.\n",
            "  _warn_prf(average, modifier, msg_start, len(result))\n"
          ]
        },
        {
          "output_type": "stream",
          "name": "stdout",
          "text": [
            "========== Voting Model Results ==========\n",
            "Accuracy    :  0.8249378901770926\n",
            "Recall      :  0.8249378901770926\n",
            "Precision   :  0.8172503758572286\n",
            "F1 Score    :  0.8249378901770926\n"
          ]
        }
      ]
    }
  ]
}